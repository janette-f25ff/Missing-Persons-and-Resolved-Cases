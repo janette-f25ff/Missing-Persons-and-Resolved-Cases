{
 "cells": [
  {
   "cell_type": "code",
   "execution_count": null,
   "id": "fde5561c",
   "metadata": {},
   "outputs": [],
   "source": [
    "import stanza\n",
    "import pandas as pd\n",
    "stanza.install_corenlp()"
   ]
  },
  {
   "cell_type": "code",
   "execution_count": null,
   "id": "b5a6d5e4",
   "metadata": {},
   "outputs": [],
   "source": [
    "from stanza.server import CoreNLPClient\n",
    "\n",
    "# Start the CoreNLP client\n",
    "client = CoreNLPClient(annotators=['tokenize','ssplit','pos','lemma','ner'], timeout=30000, memory='16G')\n",
    "client.start()\n",
    "\n",
    "df = pd.read_excel(r'resolved_data.xlsx')\n",
    "\n",
    "text = df.loc[63, 'Details of Disappearance']\n",
    "# Example usage\n",
    "##text = \"Abney disappeared from Harvey, Illinois on October 5, 2005. In February 2006, he was found deceased in a drainage ditch in Cedar Creek Township in Lake County, Indiana. He had apparently driven his car into the ditch; it was found in the water about a block away from the body.\"\n",
    "ann = client.annotate(text)\n",
    "print(ann)\n"
   ]
  },
  {
   "cell_type": "code",
   "execution_count": null,
   "id": "2fdc7448",
   "metadata": {},
   "outputs": [],
   "source": [
    "# Extract the found location and state only if the word \"found\" occurs beforehand\n",
    "found_location = False\n",
    "locations = []\n",
    "##states = []\n",
    "##cities = []\n",
    "\n",
    "for sentence in ann.sentence:\n",
    "    for token in sentence.token:\n",
    "        if token.word.lower() == 'found':\n",
    "            found_location = True\n",
    "        if found_location and token.coarseNER == 'LOCATION':\n",
    "            locations.append(token.word)\n",
    "            \n",
    "        ##if found_location and token.ner == 'CITY':\n",
    "            ##cities.append(token.word)\n",
    "        ##if found_location and token.ner == 'STATE_OR_PROVINCE':\n",
    "            ##states.append(token.word)\n",
    "\n",
    "# Join the found location and state words into a single string\n",
    "locations_str = ' '.join(locations)\n",
    "##states_str = ' '.join(states)\n",
    "##cities_str = ' '.join(cities)\n",
    "print(\"Found Location:\", locations_str)\n",
    "##print(\"Found State:\", states_str)\n",
    "##print(\"Found City:\", cities_str)\n",
    "# Stop the CoreNLP client\n",
    "client.stop()"
   ]
  }
 ],
 "metadata": {
  "kernelspec": {
   "display_name": "Python 3 (ipykernel)",
   "language": "python",
   "name": "python3"
  },
  "language_info": {
   "codemirror_mode": {
    "name": "ipython",
    "version": 3
   },
   "file_extension": ".py",
   "mimetype": "text/x-python",
   "name": "python",
   "nbconvert_exporter": "python",
   "pygments_lexer": "ipython3",
   "version": "3.10.9"
  }
 },
 "nbformat": 4,
 "nbformat_minor": 5
}
